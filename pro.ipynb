{
 "cells": [
  {
   "cell_type": "code",
   "execution_count": 1,
   "id": "c85add5c-b514-4585-b7c3-5146185b0f7b",
   "metadata": {},
   "outputs": [
    {
     "name": "stdout",
     "output_type": "stream",
     "text": [
      "* Running on local URL:  http://127.0.0.1:7860\n",
      "\n",
      "To create a public link, set `share=True` in `launch()`.\n"
     ]
    },
    {
     "data": {
      "text/html": [
       "<div><iframe src=\"http://127.0.0.1:7860/\" width=\"100%\" height=\"500\" allow=\"autoplay; camera; microphone; clipboard-read; clipboard-write;\" frameborder=\"0\" allowfullscreen></iframe></div>"
      ],
      "text/plain": [
       "<IPython.core.display.HTML object>"
      ]
     },
     "metadata": {},
     "output_type": "display_data"
    }
   ],
   "source": [
    "import gradio as gr\n",
    "import assemblyai as aai\n",
    "from translate import Translator\n",
    "from elevenlabs import VoiceSettings\n",
    "from elevenlabs.client import ElevenLabs\n",
    "import uuid\n",
    "from pathlib import Path\n",
    "\n",
    "def voice_to_voice(audio_file):\n",
    "    \n",
    "    #transcribe audio\n",
    "    transcription_response = audio_transcription(audio_file)\n",
    "\n",
    "    if transcription_response.status == aai.TranscriptStatus.error:\n",
    "        raise gr.Error(transcription_response.error)\n",
    "    else:\n",
    "        text = transcription_response.text\n",
    "\n",
    "    es_translation, tr_translation, ja_translation = text_translation(text)\n",
    "\n",
    "    es_audi_path = text_to_speech(es_translation)\n",
    "    tr_audi_path = text_to_speech(tr_translation)\n",
    "    ja_audi_path = text_to_speech(ja_translation)\n",
    "\n",
    "    es_path = Path(es_audi_path)\n",
    "    tr_path = Path(tr_audi_path)\n",
    "    ja_path = Path(ja_audi_path)\n",
    "\n",
    "    return es_path, tr_path, ja_path\n",
    "\n",
    "\n",
    "def audio_transcription(audio_file):\n",
    "\n",
    "    aai.settings.api_key = \"a3d77d0838f24c8f9cabce2a6426c867\"\n",
    "\n",
    "    transcriber = aai.Transcriber()\n",
    "    transcription = transcriber.transcribe(audio_file)\n",
    "\n",
    "    return transcription\n",
    "\n",
    "def text_translation(text):\n",
    "    \n",
    "    translator_es = Translator(from_lang=\"en\", to_lang=\"es\")\n",
    "    es_text = translator_es.translate(text)\n",
    "\n",
    "    translator_tr = Translator(from_lang=\"en\", to_lang=\"tr\")\n",
    "    tr_text = translator_tr.translate(text)\n",
    "\n",
    "    translator_ja = Translator(from_lang=\"en\", to_lang=\"ja\")\n",
    "    ja_text = translator_ja.translate(text)\n",
    "\n",
    "    return es_text, tr_text, ja_text\n",
    "\n",
    "def text_to_speech(text):\n",
    "\n",
    "    client = ElevenLabs(\n",
    "        api_key= \"sk_caac624838715e062b2344bef9a77da0a3d7ab8fbe894891\",\n",
    "    )\n",
    "\n",
    "    # Calling the text_to_speech conversion API with detailed parameters\n",
    "    response = client.text_to_speech.convert(\n",
    "        voice_id=\"5Q0t7uMcjvnagumLfvZi\", #clone your voice on elevenlabs dashboard and copy the id\n",
    "        optimize_streaming_latency=\"0\",\n",
    "        output_format=\"mp3_22050_32\",\n",
    "        text=text,\n",
    "        model_id=\"eleven_multilingual_v2\", # use the turbo model for low latency, for other languages use the `eleven_multilingual_v2`\n",
    "        voice_settings=VoiceSettings(\n",
    "            stability=0.5,\n",
    "            similarity_boost=0.8,\n",
    "            style=0.5,\n",
    "            use_speaker_boost=True,\n",
    "        ),\n",
    "    )\n",
    "\n",
    "    # Generating a unique file name for the output MP3 file\n",
    "    save_file_path = f\"{uuid.uuid4()}.mp3\"\n",
    "\n",
    "    # Writing the audio to a file\n",
    "    with open(save_file_path, \"wb\") as f:\n",
    "        for chunk in response:\n",
    "            if chunk:\n",
    "                f.write(chunk)\n",
    "\n",
    "    print(f\"{save_file_path}: A new audio file was saved successfully!\")\n",
    "\n",
    "    # Return the path of the saved audio file\n",
    "    return save_file_path\n",
    "\n",
    "audio_input = gr.Audio(\n",
    "    sources=[\"microphone\"],\n",
    "    type=\"filepath\"\n",
    ")\n",
    "\n",
    "demo = gr.Interface(\n",
    "    fn=voice_to_voice,\n",
    "    inputs=audio_input,\n",
    "    outputs=[gr.Audio(label=\"Spanish\"), gr.Audio(label=\"Turkish\"), gr.Audio(label=\"Japanese\")]\n",
    ")\n",
    "\n",
    "if __name__ == \"__main__\":\n",
    "    demo.launch()"
   ]
  },
  {
   "cell_type": "code",
   "execution_count": null,
   "id": "6c6b5799-0545-485e-a88a-78b73c28ee8e",
   "metadata": {},
   "outputs": [],
   "source": []
  },
  {
   "cell_type": "code",
   "execution_count": null,
   "id": "4e71d42b-daf5-4081-aeb6-a465122bc82c",
   "metadata": {},
   "outputs": [],
   "source": []
  }
 ],
 "metadata": {
  "kernelspec": {
   "display_name": "Python 3 (ipykernel)",
   "language": "python",
   "name": "python3"
  },
  "language_info": {
   "codemirror_mode": {
    "name": "ipython",
    "version": 3
   },
   "file_extension": ".py",
   "mimetype": "text/x-python",
   "name": "python",
   "nbconvert_exporter": "python",
   "pygments_lexer": "ipython3",
   "version": "3.12.7"
  }
 },
 "nbformat": 4,
 "nbformat_minor": 5
}
